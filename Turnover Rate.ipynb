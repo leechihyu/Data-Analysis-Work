{
 "cells": [
  {
   "cell_type": "markdown",
   "id": "6c7a4bd1",
   "metadata": {},
   "source": [
    "# Turnover Rate HR Consultant\n",
    "In this notebook, I design a detector which can pick up employees who are likely to resign, and an HR consultant which can give advice to reduce the possibility of resigning according to the model."
   ]
  },
  {
   "cell_type": "markdown",
   "id": "1682429c",
   "metadata": {},
   "source": [
    "### Load Library"
   ]
  },
  {
   "cell_type": "code",
   "execution_count": 1,
   "id": "20acb9d3",
   "metadata": {},
   "outputs": [
    {
     "name": "stderr",
     "output_type": "stream",
     "text": [
      "-- \u001b[1mAttaching packages\u001b[22m ------------------------------------------------------------------------------- tidyverse 1.3.1 --\n",
      "\n",
      "\u001b[32mv\u001b[39m \u001b[34mggplot2\u001b[39m 3.3.5     \u001b[32mv\u001b[39m \u001b[34mpurrr  \u001b[39m 0.3.4\n",
      "\u001b[32mv\u001b[39m \u001b[34mtibble \u001b[39m 3.1.4     \u001b[32mv\u001b[39m \u001b[34mdplyr  \u001b[39m 1.0.7\n",
      "\u001b[32mv\u001b[39m \u001b[34mtidyr  \u001b[39m 1.1.3     \u001b[32mv\u001b[39m \u001b[34mstringr\u001b[39m 1.4.0\n",
      "\u001b[32mv\u001b[39m \u001b[34mreadr  \u001b[39m 2.0.1     \u001b[32mv\u001b[39m \u001b[34mforcats\u001b[39m 0.5.1\n",
      "\n",
      "-- \u001b[1mConflicts\u001b[22m ---------------------------------------------------------------------------------- tidyverse_conflicts() --\n",
      "\u001b[31mx\u001b[39m \u001b[34mdplyr\u001b[39m::\u001b[32mfilter()\u001b[39m masks \u001b[34mstats\u001b[39m::filter()\n",
      "\u001b[31mx\u001b[39m \u001b[34mdplyr\u001b[39m::\u001b[32mlag()\u001b[39m    masks \u001b[34mstats\u001b[39m::lag()\n",
      "\n"
     ]
    }
   ],
   "source": [
    "library('tidyverse')\n",
    "library('ggplot2')\n",
    "library('ggpubr')"
   ]
  },
  {
   "cell_type": "code",
   "execution_count": 2,
   "id": "0669c15a",
   "metadata": {},
   "outputs": [],
   "source": [
    "df = read.csv('C:/Users/Max/Desktop/WA_Fn-UseC_-HR-Employee-Attrition.csv', encoding = 'utf-8')\n",
    "df = rename(df, 'Age' = '锘緼ge')"
   ]
  },
  {
   "cell_type": "code",
   "execution_count": 3,
   "id": "d50437dd",
   "metadata": {},
   "outputs": [
    {
     "data": {
      "text/html": [
       "<table class=\"dataframe\">\n",
       "<caption>A data.frame: 1 × 35</caption>\n",
       "<thead>\n",
       "\t<tr><th></th><th scope=col>Age</th><th scope=col>Attrition</th><th scope=col>BusinessTravel</th><th scope=col>DailyRate</th><th scope=col>Department</th><th scope=col>DistanceFromHome</th><th scope=col>Education</th><th scope=col>EducationField</th><th scope=col>EmployeeCount</th><th scope=col>EmployeeNumber</th><th scope=col>...</th><th scope=col>RelationshipSatisfaction</th><th scope=col>StandardHours</th><th scope=col>StockOptionLevel</th><th scope=col>TotalWorkingYears</th><th scope=col>TrainingTimesLastYear</th><th scope=col>WorkLifeBalance</th><th scope=col>YearsAtCompany</th><th scope=col>YearsInCurrentRole</th><th scope=col>YearsSinceLastPromotion</th><th scope=col>YearsWithCurrManager</th></tr>\n",
       "\t<tr><th></th><th scope=col>&lt;int&gt;</th><th scope=col>&lt;fct&gt;</th><th scope=col>&lt;fct&gt;</th><th scope=col>&lt;int&gt;</th><th scope=col>&lt;fct&gt;</th><th scope=col>&lt;int&gt;</th><th scope=col>&lt;int&gt;</th><th scope=col>&lt;fct&gt;</th><th scope=col>&lt;int&gt;</th><th scope=col>&lt;int&gt;</th><th scope=col>...</th><th scope=col>&lt;int&gt;</th><th scope=col>&lt;int&gt;</th><th scope=col>&lt;int&gt;</th><th scope=col>&lt;int&gt;</th><th scope=col>&lt;int&gt;</th><th scope=col>&lt;int&gt;</th><th scope=col>&lt;int&gt;</th><th scope=col>&lt;int&gt;</th><th scope=col>&lt;int&gt;</th><th scope=col>&lt;int&gt;</th></tr>\n",
       "</thead>\n",
       "<tbody>\n",
       "\t<tr><th scope=row>1</th><td>41</td><td>Yes</td><td>Travel_Rarely</td><td>1102</td><td>Sales</td><td>1</td><td>2</td><td>Life Sciences</td><td>1</td><td>1</td><td>...</td><td>1</td><td>80</td><td>0</td><td>8</td><td>0</td><td>1</td><td>6</td><td>4</td><td>0</td><td>5</td></tr>\n",
       "</tbody>\n",
       "</table>\n"
      ],
      "text/latex": [
       "A data.frame: 1 × 35\n",
       "\\begin{tabular}{r|lllllllllllllllllllll}\n",
       "  & Age & Attrition & BusinessTravel & DailyRate & Department & DistanceFromHome & Education & EducationField & EmployeeCount & EmployeeNumber & ... & RelationshipSatisfaction & StandardHours & StockOptionLevel & TotalWorkingYears & TrainingTimesLastYear & WorkLifeBalance & YearsAtCompany & YearsInCurrentRole & YearsSinceLastPromotion & YearsWithCurrManager\\\\\n",
       "  & <int> & <fct> & <fct> & <int> & <fct> & <int> & <int> & <fct> & <int> & <int> & ... & <int> & <int> & <int> & <int> & <int> & <int> & <int> & <int> & <int> & <int>\\\\\n",
       "\\hline\n",
       "\t1 & 41 & Yes & Travel\\_Rarely & 1102 & Sales & 1 & 2 & Life Sciences & 1 & 1 & ... & 1 & 80 & 0 & 8 & 0 & 1 & 6 & 4 & 0 & 5\\\\\n",
       "\\end{tabular}\n"
      ],
      "text/markdown": [
       "\n",
       "A data.frame: 1 × 35\n",
       "\n",
       "| <!--/--> | Age &lt;int&gt; | Attrition &lt;fct&gt; | BusinessTravel &lt;fct&gt; | DailyRate &lt;int&gt; | Department &lt;fct&gt; | DistanceFromHome &lt;int&gt; | Education &lt;int&gt; | EducationField &lt;fct&gt; | EmployeeCount &lt;int&gt; | EmployeeNumber &lt;int&gt; | ... ... | RelationshipSatisfaction &lt;int&gt; | StandardHours &lt;int&gt; | StockOptionLevel &lt;int&gt; | TotalWorkingYears &lt;int&gt; | TrainingTimesLastYear &lt;int&gt; | WorkLifeBalance &lt;int&gt; | YearsAtCompany &lt;int&gt; | YearsInCurrentRole &lt;int&gt; | YearsSinceLastPromotion &lt;int&gt; | YearsWithCurrManager &lt;int&gt; |\n",
       "|---|---|---|---|---|---|---|---|---|---|---|---|---|---|---|---|---|---|---|---|---|---|\n",
       "| 1 | 41 | Yes | Travel_Rarely | 1102 | Sales | 1 | 2 | Life Sciences | 1 | 1 | ... | 1 | 80 | 0 | 8 | 0 | 1 | 6 | 4 | 0 | 5 |\n",
       "\n"
      ],
      "text/plain": [
       "  Age Attrition BusinessTravel DailyRate Department DistanceFromHome Education\n",
       "1 41  Yes       Travel_Rarely  1102      Sales      1                2        \n",
       "  EducationField EmployeeCount EmployeeNumber ... RelationshipSatisfaction\n",
       "1 Life Sciences  1             1              ... 1                       \n",
       "  StandardHours StockOptionLevel TotalWorkingYears TrainingTimesLastYear\n",
       "1 80            0                8                 0                    \n",
       "  WorkLifeBalance YearsAtCompany YearsInCurrentRole YearsSinceLastPromotion\n",
       "1 1               6              4                  0                      \n",
       "  YearsWithCurrManager\n",
       "1 5                   "
      ]
     },
     "metadata": {},
     "output_type": "display_data"
    }
   ],
   "source": [
    "df = as.data.frame(unclass(df), stringsAsFactors = T)\n",
    "df %>% head(n=1)"
   ]
  },
  {
   "cell_type": "markdown",
   "id": "a64e954f",
   "metadata": {},
   "source": [
    "### Reorder  the Variables"
   ]
  },
  {
   "cell_type": "code",
   "execution_count": 4,
   "id": "4d232727",
   "metadata": {},
   "outputs": [],
   "source": [
    "df = (df %>% select(c('Attrition','Age', 'Gender', 'Education', 'EducationField', 'MaritalStatus',#Demographic Characteristics\n",
    " 'NumCompaniesWorked', #Experience\n",
    " 'Department', 'JobLevel', 'JobRole', #Job\n",
    " 'HourlyRate', 'DailyRate', 'MonthlyRate', 'MonthlyIncome', 'PercentSalaryHike', 'StockOptionLevel', #Incentive\n",
    " 'BusinessTravel', 'OverTime', 'WorkLifeBalance', 'DistanceFromHome',#Working Environment\n",
    " 'PerformanceRating', 'JobInvolvement',#Performance\n",
    " 'EnvironmentSatisfaction', 'JobSatisfaction', 'RelationshipSatisfaction',#Satisfaction\n",
    " 'TrainingTimesLastYear', #Investment in Human Capital\n",
    " 'TotalWorkingYears','YearsAtCompany','YearsInCurrentRole','YearsSinceLastPromotion','YearsWithCurrManager')))#Working Years\n"
   ]
  },
  {
   "cell_type": "markdown",
   "id": "7d0674e8",
   "metadata": {},
   "source": [
    "### Some Histograms"
   ]
  },
  {
   "cell_type": "code",
   "execution_count": 5,
   "id": "b295414d",
   "metadata": {},
   "outputs": [
    {
     "name": "stderr",
     "output_type": "stream",
     "text": [
      "`stat_bin()` using `bins = 30`. Pick better value with `binwidth`.\n",
      "\n",
      "`stat_bin()` using `bins = 30`. Pick better value with `binwidth`.\n",
      "\n",
      "`stat_bin()` using `bins = 30`. Pick better value with `binwidth`.\n",
      "\n",
      "`stat_bin()` using `bins = 30`. Pick better value with `binwidth`.\n",
      "\n",
      "`stat_bin()` using `bins = 30`. Pick better value with `binwidth`.\n",
      "\n",
      "`stat_bin()` using `bins = 30`. Pick better value with `binwidth`.\n",
      "\n"
     ]
    },
    {
     "data": {
      "image/png": "[encoded data removed]",
      "text/plain": [
       "plot without title"
      ]
     },
     "metadata": {
      "image/png": {
       "height": 420,
       "width": 420
      }
     },
     "output_type": "display_data"
    }
   ],
   "source": [
    "plot_Age = ggplot(data = df, aes(x = Age, fill = Attrition))+\n",
    "    geom_histogram(aes(y = ..density..))+\n",
    "    geom_line(aes(y = ..density.., color = Attrition), stat = 'density')+                                            \n",
    "    scale_colour_manual(name = 'Attrition', values = c('red', 'blue'))+\n",
    "    theme_pubclean()\n",
    "\n",
    "plot_TrainingTimesLastYear = ggplot(data = df, aes(x = TrainingTimesLastYear, fill = Attrition))+\n",
    "    geom_histogram(aes(y = ..density..))+\n",
    "    geom_line(aes(y = ..density.., color = Attrition), stat = 'density')+                                            \n",
    "    scale_colour_manual(name = 'Attrition', values = c('red', 'blue'))+\n",
    "    theme_pubclean()\n",
    "\n",
    "plot_EnvironmentSatisfaction = ggplot(data = df, aes(x = EnvironmentSatisfaction, fill = Attrition))+\n",
    "    geom_histogram(aes(y = ..density..))+\n",
    "    geom_line(aes(y = ..density.., color = Attrition), stat = 'density')+                                            \n",
    "    scale_colour_manual(name = 'Attrition', values = c('red', 'blue'))+\n",
    "    theme_pubclean()\n",
    "\n",
    "plot_JobSatisfaction = ggplot(data = df, aes(x = JobSatisfaction, fill = Attrition))+\n",
    "    geom_histogram(aes(y = ..density..))+\n",
    "    geom_line(aes(y = ..density.., color = Attrition), stat = 'density')+                                            \n",
    "    scale_colour_manual(name = 'Attrition', values = c('red', 'blue'))+\n",
    "    theme_pubclean()\n",
    "\n",
    "plot_RelationshipSatisfaction = ggplot(data = df, aes(x = RelationshipSatisfaction, fill = Attrition))+\n",
    "    geom_histogram(aes(y = ..density..))+\n",
    "    geom_line(aes(y = ..density.., color = Attrition), stat = 'density')+                                            \n",
    "    scale_colour_manual(name = 'Attrition', values = c('red', 'blue'))+\n",
    "    theme_pubclean()\n",
    "\n",
    "plot_YearsSinceLastPromotion = ggplot(data = df, aes(x = YearsSinceLastPromotion, fill = Attrition))+\n",
    "    geom_histogram(aes(y = ..density..))+\n",
    "    geom_line(aes(y = ..density.., color = Attrition), stat = 'density')+                                            \n",
    "    scale_colour_manual(name = 'Attrition', values = c('red', 'blue'))+\n",
    "    theme_pubclean()\n",
    "\n",
    "\n",
    "\n",
    "ggarrange(plot_Age,\n",
    "          plot_TrainingTimesLastYear,\n",
    "          plot_EnvironmentSatisfaction,\n",
    "          plot_JobSatisfaction,\n",
    "          plot_RelationshipSatisfaction,\n",
    "          plot_YearsSinceLastPromotion)"
   ]
  },
  {
   "cell_type": "markdown",
   "id": "c4d40be4",
   "metadata": {},
   "source": [
    "### Logistic Regression"
   ]
  },
  {
   "cell_type": "code",
   "execution_count": 6,
   "id": "56caed97",
   "metadata": {},
   "outputs": [],
   "source": [
    "loglm <- glm(Attrition ~ ., data = df, family = binomial)"
   ]
  },
  {
   "cell_type": "code",
   "execution_count": 7,
   "id": "abb44cbd",
   "metadata": {},
   "outputs": [
    {
     "name": "stderr",
     "output_type": "stream",
     "text": [
      "\n",
      "载入程辑包：'MASS'\n",
      "\n",
      "\n",
      "The following object is masked from 'package:dplyr':\n",
      "\n",
      "    select\n",
      "\n",
      "\n"
     ]
    }
   ],
   "source": [
    "library('MASS')"
   ]
  },
  {
   "cell_type": "markdown",
   "id": "3ec7d83f",
   "metadata": {},
   "source": [
    "### Model Selection: Stepwise Regression"
   ]
  },
  {
   "cell_type": "code",
   "execution_count": 8,
   "id": "ccc88c47",
   "metadata": {},
   "outputs": [
    {
     "data": {
      "text/plain": [
       "\n",
       "Call:\n",
       "glm(formula = Attrition ~ Age + Gender + EducationField + MaritalStatus + \n",
       "    NumCompaniesWorked + JobRole + StockOptionLevel + BusinessTravel + \n",
       "    OverTime + WorkLifeBalance + DistanceFromHome + JobInvolvement + \n",
       "    EnvironmentSatisfaction + JobSatisfaction + RelationshipSatisfaction + \n",
       "    TrainingTimesLastYear + TotalWorkingYears + YearsAtCompany + \n",
       "    YearsInCurrentRole + YearsSinceLastPromotion + YearsWithCurrManager, \n",
       "    family = binomial, data = df)\n",
       "\n",
       "Deviance Residuals: \n",
       "    Min       1Q   Median       3Q      Max  \n",
       "-1.6970  -0.4941  -0.2543  -0.0932   3.4060  \n",
       "\n",
       "Coefficients:\n",
       "                                Estimate Std. Error z value Pr(>|z|)    \n",
       "(Intercept)                      1.98043    1.16964   1.693 0.090417 .  \n",
       "Age                             -0.03179    0.01338  -2.375 0.017530 *  \n",
       "GenderMale                       0.38159    0.18358   2.079 0.037652 *  \n",
       "EducationFieldLife Sciences     -0.62920    0.75357  -0.835 0.403740    \n",
       "EducationFieldMarketing         -0.20106    0.80299  -0.250 0.802286    \n",
       "EducationFieldMedical           -0.73817    0.75281  -0.981 0.326811    \n",
       "EducationFieldOther             -0.73661    0.82019  -0.898 0.369133    \n",
       "EducationFieldTechnical Degree   0.27581    0.77488   0.356 0.721890    \n",
       "MaritalStatusMarried             0.31564    0.26542   1.189 0.234358    \n",
       "MaritalStatusSingle              1.13598    0.34264   3.315 0.000915 ***\n",
       "NumCompaniesWorked               0.19586    0.03848   5.090 3.59e-07 ***\n",
       "JobRoleHuman Resources           1.34689    0.65474   2.057 0.039674 *  \n",
       "JobRoleLaboratory Technician     1.53300    0.43622   3.514 0.000441 ***\n",
       "JobRoleManager                   0.15499    0.65805   0.236 0.813797    \n",
       "JobRoleManufacturing Director    0.24735    0.52967   0.467 0.640508    \n",
       "JobRoleResearch Director        -1.02684    0.91785  -1.119 0.263252    \n",
       "JobRoleResearch Scientist        0.59389    0.44263   1.342 0.179683    \n",
       "JobRoleSales Executive           1.02519    0.44560   2.301 0.021409 *  \n",
       "JobRoleSales Representative      1.98169    0.50741   3.906 9.40e-05 ***\n",
       "StockOptionLevel                -0.22125    0.15601  -1.418 0.156141    \n",
       "BusinessTravelTravel_Frequently  1.93692    0.40881   4.738 2.16e-06 ***\n",
       "BusinessTravelTravel_Rarely      1.04981    0.37711   2.784 0.005372 ** \n",
       "OverTimeYes                      1.97441    0.19258  10.252  < 2e-16 ***\n",
       "WorkLifeBalance                 -0.36314    0.12346  -2.941 0.003268 ** \n",
       "DistanceFromHome                 0.04555    0.01066   4.272 1.94e-05 ***\n",
       "JobInvolvement                  -0.53379    0.12193  -4.378 1.20e-05 ***\n",
       "EnvironmentSatisfaction         -0.43171    0.08247  -5.235 1.65e-07 ***\n",
       "JobSatisfaction                 -0.41924    0.08095  -5.179 2.23e-07 ***\n",
       "RelationshipSatisfaction        -0.25420    0.08207  -3.097 0.001953 ** \n",
       "TrainingTimesLastYear           -0.18885    0.07293  -2.589 0.009616 ** \n",
       "TotalWorkingYears               -0.06468    0.02642  -2.449 0.014341 *  \n",
       "YearsAtCompany                   0.08958    0.03804   2.355 0.018537 *  \n",
       "YearsInCurrentRole              -0.14762    0.04475  -3.299 0.000970 ***\n",
       "YearsSinceLastPromotion          0.18064    0.04169   4.333 1.47e-05 ***\n",
       "YearsWithCurrManager            -0.13167    0.04690  -2.807 0.004997 ** \n",
       "---\n",
       "Signif. codes:  0 '***' 0.001 '**' 0.01 '*' 0.05 '.' 0.1 ' ' 1\n",
       "\n",
       "(Dispersion parameter for binomial family taken to be 1)\n",
       "\n",
       "    Null deviance: 1298.58  on 1469  degrees of freedom\n",
       "Residual deviance:  862.67  on 1435  degrees of freedom\n",
       "AIC: 932.67\n",
       "\n",
       "Number of Fisher Scoring iterations: 7\n"
      ]
     },
     "metadata": {},
     "output_type": "display_data"
    }
   ],
   "source": [
    "summary(stepwise_model <- stepAIC(loglm, direction = 'both', trace = FALSE))"
   ]
  },
  {
   "cell_type": "markdown",
   "id": "59f4d22d",
   "metadata": {},
   "source": [
    "### Model Selection: Select Interaction Terms"
   ]
  },
  {
   "cell_type": "code",
   "execution_count": 9,
   "id": "242a3eba",
   "metadata": {},
   "outputs": [],
   "source": [
    "select_interactiave_pair <- function(left_var, right_var, data = df, threshold){\n",
    "    base_formula = as.formula(paste('Attrition~', paste(right_var, collapse = '+')))\n",
    "    base_aic = glm(base_formula, data, family = binomial)$aic\n",
    "    \n",
    "    aic_collection = c()\n",
    "    for (var in right_var){\n",
    "        formula = as.formula(paste('Attrition~', paste(right_var, collapse = '+'), '+',left_var, '*',var))\n",
    "        aic_tmp = glm(formula, data, family = binomial)$aic\n",
    "        aic_collection = append(aic_collection, aic_tmp)    \n",
    "    }\n",
    "    add_right_var = right_var[which(aic_collection == min(aic_collection))]\n",
    "    right_var = append(right_var, paste(left_var, '*', add_right_var))\n",
    "    \n",
    "    if (base_aic - min(aic_collection) < threshold){\n",
    "        print('Done')\n",
    "        break\n",
    "    }\n",
    "    print(paste(left_var, '*', add_right_var))\n",
    "\n",
    "    return (select_interactiave_pair(left_var, right_var, data = df, threshold))\n",
    "}"
   ]
  },
  {
   "cell_type": "markdown",
   "id": "1a387b0a",
   "metadata": {},
   "source": [
    "### Final Logistic Model with Small AIC"
   ]
  },
  {
   "cell_type": "code",
   "execution_count": 10,
   "id": "40045803",
   "metadata": {},
   "outputs": [],
   "source": [
    "selected_var = c('Age', 'Gender', 'MaritalStatus', 'NumCompaniesWorked', \n",
    "    'JobRole', 'StockOptionLevel', 'BusinessTravel', 'OverTime', \n",
    "    'WorkLifeBalance','DistanceFromHome', 'JobInvolvement', 'EnvironmentSatisfaction', \n",
    "    'JobSatisfaction', 'RelationshipSatisfaction', 'TrainingTimesLastYear', \n",
    "    'TotalWorkingYears', 'YearsAtCompany', 'YearsInCurrentRole', \n",
    "    'YearsSinceLastPromotion', 'YearsWithCurrManager','Age*YearsAtCompany',\n",
    "    'Age*StockOptionLevel','Age*OverTime','Age*JobSatisfaction',\"Age * YearsSinceLastPromotion\",\n",
    "                \"Gender * NumCompaniesWorked\", \"Gender * TrainingTimesLastYear\",\n",
    "                        \"Gender * Age*JobSatisfaction\", \"Gender * YearsAtCompany\")\n",
    "\n",
    "interactive_fm = as.formula(paste('Attrition ~ ', paste(selected_var, collapse = '+'), '+',\n",
    "                      'Age*YearsAtCompany+','Age*StockOptionLevel+',\n",
    "                      'Age*OverTime+','Age*JobSatisfaction+',\"Age * YearsSinceLastPromotion+\",\n",
    "                        \"Gender * NumCompaniesWorked+\", \"Gender * TrainingTimesLastYear+\",\n",
    "                        \"Gender * Age*JobSatisfaction+\", \"Gender * YearsAtCompany+\",\n",
    "                         \"MaritalStatus * YearsWithCurrManager+\",\"MaritalStatus * TrainingTimesLastYear\"))\n",
    "                            \n",
    "interactive_model <- glm(interactive_fm, data = df, family = binomial)"
   ]
  },
  {
   "cell_type": "code",
   "execution_count": 11,
   "id": "9859d9e9",
   "metadata": {},
   "outputs": [
    {
     "name": "stdout",
     "output_type": "stream",
     "text": [
      "Start:  AIC=894.06\n",
      "Attrition ~ Age + Gender + MaritalStatus + NumCompaniesWorked + \n",
      "    JobRole + StockOptionLevel + BusinessTravel + OverTime + \n",
      "    WorkLifeBalance + DistanceFromHome + JobInvolvement + EnvironmentSatisfaction + \n",
      "    JobSatisfaction + RelationshipSatisfaction + TrainingTimesLastYear + \n",
      "    TotalWorkingYears + YearsAtCompany + YearsInCurrentRole + \n",
      "    YearsSinceLastPromotion + YearsWithCurrManager + Age * YearsAtCompany + \n",
      "    Age * StockOptionLevel + Age * OverTime + Age * JobSatisfaction + \n",
      "    Age * YearsSinceLastPromotion + Gender * NumCompaniesWorked + \n",
      "    Gender * TrainingTimesLastYear + Gender * Age * JobSatisfaction + \n",
      "    Gender * YearsAtCompany + Age * YearsAtCompany + Age * StockOptionLevel + \n",
      "    Age * OverTime + Age * JobSatisfaction + Age * YearsSinceLastPromotion + \n",
      "    Gender * NumCompaniesWorked + Gender * TrainingTimesLastYear + \n",
      "    Gender * Age * JobSatisfaction + Gender * YearsAtCompany + \n",
      "    MaritalStatus * YearsWithCurrManager + MaritalStatus * TrainingTimesLastYear\n",
      "\n",
      "                                      Df Deviance    AIC\n",
      "- Age:YearsSinceLastPromotion          1   805.00 893.00\n",
      "<none>                                     804.06 894.06\n",
      "- Gender:NumCompaniesWorked            1   807.12 895.12\n",
      "- YearsInCurrentRole                   1   808.06 896.06\n",
      "- MaritalStatus:TrainingTimesLastYear  2   810.28 896.28\n",
      "- Gender:TrainingTimesLastYear         1   808.72 896.72\n",
      "- Age:OverTime                         1   808.86 896.86\n",
      "- Gender:YearsAtCompany                1   809.10 897.10\n",
      "- Age:Gender:JobSatisfaction           1   811.42 899.42\n",
      "- Age:StockOptionLevel                 1   811.74 899.74\n",
      "- TotalWorkingYears                    1   811.86 899.86\n",
      "- WorkLifeBalance                      1   812.70 900.70\n",
      "- MaritalStatus:YearsWithCurrManager   2   815.32 901.32\n",
      "- Age:YearsAtCompany                   1   818.75 906.75\n",
      "- RelationshipSatisfaction             1   819.93 907.93\n",
      "- DistanceFromHome                     1   821.23 909.23\n",
      "- JobInvolvement                       1   825.14 913.14\n",
      "- EnvironmentSatisfaction              1   832.72 920.72\n",
      "- JobRole                              8   849.07 923.07\n",
      "- BusinessTravel                       2   840.16 926.16\n",
      "\n",
      "Step:  AIC=893\n",
      "Attrition ~ Age + Gender + MaritalStatus + NumCompaniesWorked + \n",
      "    JobRole + StockOptionLevel + BusinessTravel + OverTime + \n",
      "    WorkLifeBalance + DistanceFromHome + JobInvolvement + EnvironmentSatisfaction + \n",
      "    JobSatisfaction + RelationshipSatisfaction + TrainingTimesLastYear + \n",
      "    TotalWorkingYears + YearsAtCompany + YearsInCurrentRole + \n",
      "    YearsSinceLastPromotion + YearsWithCurrManager + Age:YearsAtCompany + \n",
      "    Age:StockOptionLevel + Age:OverTime + Age:JobSatisfaction + \n",
      "    Gender:NumCompaniesWorked + Gender:TrainingTimesLastYear + \n",
      "    Age:Gender + Gender:JobSatisfaction + Gender:YearsAtCompany + \n",
      "    MaritalStatus:YearsWithCurrManager + MaritalStatus:TrainingTimesLastYear + \n",
      "    Age:Gender:JobSatisfaction\n",
      "\n",
      "                                      Df Deviance    AIC\n",
      "<none>                                     805.00 893.00\n",
      "- Gender:NumCompaniesWorked            1   808.18 894.18\n",
      "- YearsInCurrentRole                   1   809.41 895.41\n",
      "- MaritalStatus:TrainingTimesLastYear  2   811.44 895.44\n",
      "- Age:OverTime                         1   809.76 895.76\n",
      "- Gender:TrainingTimesLastYear         1   809.99 895.99\n",
      "- Gender:YearsAtCompany                1   810.16 896.16\n",
      "- Age:StockOptionLevel                 1   812.50 898.50\n",
      "- TotalWorkingYears                    1   812.57 898.57\n",
      "- Age:Gender:JobSatisfaction           1   812.72 898.72\n",
      "- WorkLifeBalance                      1   813.47 899.47\n",
      "- MaritalStatus:YearsWithCurrManager   2   816.30 900.30\n",
      "- RelationshipSatisfaction             1   820.87 906.87\n",
      "- DistanceFromHome                     1   822.04 908.04\n",
      "- Age:YearsAtCompany                   1   822.63 908.63\n",
      "- YearsSinceLastPromotion              1   823.90 909.90\n",
      "- JobInvolvement                       1   825.92 911.92\n",
      "- EnvironmentSatisfaction              1   833.64 919.64\n",
      "- JobRole                              8   850.72 922.72\n",
      "- BusinessTravel                       2   840.69 924.69\n"
     ]
    }
   ],
   "source": [
    "stepwise_interactive_fm <- stepAIC(interactive_model, data = df, family = binomial)"
   ]
  },
  {
   "cell_type": "code",
   "execution_count": 14,
   "id": "c850d1e1",
   "metadata": {},
   "outputs": [
    {
     "data": {
      "text/plain": [
       "\n",
       "Call:\n",
       "glm(formula = stepwise_interactive_fm$formula, family = \"binomial\", \n",
       "    data = df)\n",
       "\n",
       "Deviance Residuals: \n",
       "    Min       1Q   Median       3Q      Max  \n",
       "-1.9869  -0.4538  -0.2286  -0.0750   3.3515  \n",
       "\n",
       "Coefficients:\n",
       "                                            Estimate Std. Error z value\n",
       "(Intercept)                                10.843610   2.099056   5.166\n",
       "Age                                        -0.226619   0.050306  -4.505\n",
       "GenderMale                                 -7.028352   2.120193  -3.315\n",
       "MaritalStatusMarried                       -1.854836   0.702754  -2.639\n",
       "MaritalStatusSingle                        -0.016272   0.740019  -0.022\n",
       "NumCompaniesWorked                          0.115291   0.063148   1.826\n",
       "JobRoleHuman Resources                      1.887646   0.599374   3.149\n",
       "JobRoleLaboratory Technician                1.678522   0.473948   3.542\n",
       "JobRoleManager                              0.470987   0.693455   0.679\n",
       "JobRoleManufacturing Director               0.650839   0.556945   1.169\n",
       "JobRoleResearch Director                   -0.677057   0.903904  -0.749\n",
       "JobRoleResearch Scientist                   0.742226   0.477492   1.554\n",
       "JobRoleSales Executive                      1.510383   0.459561   3.287\n",
       "JobRoleSales Representative                 2.344778   0.539379   4.347\n",
       "StockOptionLevel                           -1.522404   0.519393  -2.931\n",
       "BusinessTravelTravel_Frequently             2.204019   0.430801   5.116\n",
       "BusinessTravelTravel_Rarely                 1.235801   0.396532   3.117\n",
       "OverTimeYes                                 3.779973   0.819554   4.612\n",
       "WorkLifeBalance                            -0.369614   0.127075  -2.909\n",
       "DistanceFromHome                            0.045805   0.011054   4.144\n",
       "JobInvolvement                             -0.584146   0.129033  -4.527\n",
       "EnvironmentSatisfaction                    -0.446944   0.085235  -5.244\n",
       "JobSatisfaction                            -2.390338   0.595545  -4.014\n",
       "RelationshipSatisfaction                   -0.340701   0.086325  -3.947\n",
       "TrainingTimesLastYear                      -0.733469   0.240901  -3.045\n",
       "TotalWorkingYears                          -0.073109   0.027619  -2.647\n",
       "YearsAtCompany                             -0.271233   0.108961  -2.489\n",
       "YearsInCurrentRole                         -0.102691   0.048825  -2.103\n",
       "YearsSinceLastPromotion                     0.179052   0.041571   4.307\n",
       "YearsWithCurrManager                       -0.309156   0.101925  -3.033\n",
       "Age:YearsAtCompany                          0.008405   0.001985   4.233\n",
       "Age:StockOptionLevel                        0.037366   0.013430   2.782\n",
       "Age:OverTimeYes                            -0.048053   0.022103  -2.174\n",
       "Age:JobSatisfaction                         0.050642   0.016012   3.163\n",
       "GenderMale:NumCompaniesWorked               0.137260   0.077513   1.771\n",
       "GenderMale:TrainingTimesLastYear            0.356903   0.161880   2.205\n",
       "Age:GenderMale                              0.175662   0.058217   3.017\n",
       "GenderMale:JobSatisfaction                  2.072218   0.724296   2.861\n",
       "GenderMale:YearsAtCompany                  -0.081767   0.036127  -2.263\n",
       "MaritalStatusMarried:YearsWithCurrManager   0.308932   0.103261   2.992\n",
       "MaritalStatusSingle:YearsWithCurrManager    0.261811   0.104166   2.513\n",
       "MaritalStatusMarried:TrainingTimesLastYear  0.516356   0.244465   2.112\n",
       "MaritalStatusSingle:TrainingTimesLastYear   0.183625   0.243813   0.753\n",
       "Age:GenderMale:JobSatisfaction             -0.054297   0.019875  -2.732\n",
       "                                           Pr(>|z|)    \n",
       "(Intercept)                                2.39e-07 ***\n",
       "Age                                        6.64e-06 ***\n",
       "GenderMale                                 0.000917 ***\n",
       "MaritalStatusMarried                       0.008306 ** \n",
       "MaritalStatusSingle                        0.982457    \n",
       "NumCompaniesWorked                         0.067893 .  \n",
       "JobRoleHuman Resources                     0.001636 ** \n",
       "JobRoleLaboratory Technician               0.000398 ***\n",
       "JobRoleManager                             0.497018    \n",
       "JobRoleManufacturing Director              0.242570    \n",
       "JobRoleResearch Director                   0.453835    \n",
       "JobRoleResearch Scientist                  0.120083    \n",
       "JobRoleSales Executive                     0.001014 ** \n",
       "JobRoleSales Representative                1.38e-05 ***\n",
       "StockOptionLevel                           0.003377 ** \n",
       "BusinessTravelTravel_Frequently            3.12e-07 ***\n",
       "BusinessTravelTravel_Rarely                0.001830 ** \n",
       "OverTimeYes                                3.98e-06 ***\n",
       "WorkLifeBalance                            0.003630 ** \n",
       "DistanceFromHome                           3.42e-05 ***\n",
       "JobInvolvement                             5.98e-06 ***\n",
       "EnvironmentSatisfaction                    1.57e-07 ***\n",
       "JobSatisfaction                            5.98e-05 ***\n",
       "RelationshipSatisfaction                   7.92e-05 ***\n",
       "TrainingTimesLastYear                      0.002329 ** \n",
       "TotalWorkingYears                          0.008120 ** \n",
       "YearsAtCompany                             0.012801 *  \n",
       "YearsInCurrentRole                         0.035445 *  \n",
       "YearsSinceLastPromotion                    1.65e-05 ***\n",
       "YearsWithCurrManager                       0.002420 ** \n",
       "Age:YearsAtCompany                         2.30e-05 ***\n",
       "Age:StockOptionLevel                       0.005399 ** \n",
       "Age:OverTimeYes                            0.029701 *  \n",
       "Age:JobSatisfaction                        0.001563 ** \n",
       "GenderMale:NumCompaniesWorked              0.076593 .  \n",
       "GenderMale:TrainingTimesLastYear           0.027472 *  \n",
       "Age:GenderMale                             0.002550 ** \n",
       "GenderMale:JobSatisfaction                 0.004223 ** \n",
       "GenderMale:YearsAtCompany                  0.023615 *  \n",
       "MaritalStatusMarried:YearsWithCurrManager  0.002774 ** \n",
       "MaritalStatusSingle:YearsWithCurrManager   0.011957 *  \n",
       "MaritalStatusMarried:TrainingTimesLastYear 0.034671 *  \n",
       "MaritalStatusSingle:TrainingTimesLastYear  0.451367    \n",
       "Age:GenderMale:JobSatisfaction             0.006297 ** \n",
       "---\n",
       "Signif. codes:  0 '***' 0.001 '**' 0.01 '*' 0.05 '.' 0.1 ' ' 1\n",
       "\n",
       "(Dispersion parameter for binomial family taken to be 1)\n",
       "\n",
       "    Null deviance: 1298.6  on 1469  degrees of freedom\n",
       "Residual deviance:  805.0  on 1426  degrees of freedom\n",
       "AIC: 893\n",
       "\n",
       "Number of Fisher Scoring iterations: 7\n"
      ]
     },
     "metadata": {},
     "output_type": "display_data"
    }
   ],
   "source": [
    "summary(stepwise_interactive_fm <- glm(stepwise_interactive_fm$formula, df,family = 'binomial'))"
   ]
  },
  {
   "cell_type": "markdown",
   "id": "4290c511",
   "metadata": {},
   "source": [
    "### Develop an HR Consultant\n",
    "Compared with LogisticRegressionClassifier, DecisionTreeClassifier performs better in picking up attrition. Therefore, I use Decision Tree as the predictor to monitor who is more likely to resign, and use logistic model to guess the possible reasons for him/her to resign. With a guess from logistic model, HR can do something accordingly."
   ]
  },
  {
   "cell_type": "code",
   "execution_count": 16,
   "id": "e4c98670",
   "metadata": {},
   "outputs": [],
   "source": [
    "df = read.csv('C:/Users/Max/Desktop/WA_Fn-UseC_-HR-Employee-Attrition.csv', encoding = 'utf-8')\n",
    "df = rename(df, 'Age' = '锘緼ge')\n",
    "df = as.data.frame(unclass(df), stringsAsFactors = T)\n",
    "\n",
    "df$MaritalStatusSingle = (df$MaritalStatus == 'Single')\n",
    "df$JobRoleHR = (df$JobRole == 'Human Resources')\n",
    "df$JobRoleLab = (df$JobRole == 'Laboratory Technician')\n",
    "df$JobRoleSE = (df$JobRole == 'Sales Executive')\n",
    "df$JobRoleSP = (df$JobRole == 'Sales Representative')\n",
    "df$BusinessTravelFre = (df$BusinessTravel == 'Travel_Frequently')\n",
    "df$BusinessTravelRar = (df$BusinessTravel == 'Travel_Rarely')\n",
    "df$OverTimeYes = (df$OverTime == 'Yes')\n",
    "\n",
    "df_train = df[70:1470,]\n",
    "df_test = df[1:70, ]"
   ]
  },
  {
   "cell_type": "code",
   "execution_count": 17,
   "id": "20354196",
   "metadata": {},
   "outputs": [
    {
     "name": "stderr",
     "output_type": "stream",
     "text": [
      "Warning message:\n",
      "\"程辑包'rpart'是用R版本4.1.2 来建造的\"\n"
     ]
    }
   ],
   "source": [
    "library(rpart)"
   ]
  },
  {
   "cell_type": "markdown",
   "id": "5bed835e",
   "metadata": {},
   "source": [
    "#### Train a Decision Tree Classifier"
   ]
  },
  {
   "cell_type": "code",
   "execution_count": 18,
   "id": "684c153e",
   "metadata": {},
   "outputs": [
    {
     "data": {
      "text/html": [
       "<style>\n",
       ".list-inline {list-style: none; margin:0; padding: 0}\n",
       ".list-inline>li {display: inline-block}\n",
       ".list-inline>li:not(:last-child)::after {content: \"\\00b7\"; padding: 0 .5ex}\n",
       "</style>\n",
       "<ol class=list-inline><li>1</li><li>3</li><li>4</li><li>7</li><li>8</li><li>12</li><li>15</li><li>18</li><li>20</li><li>27</li><li>35</li><li>37</li><li>38</li><li>41</li><li>42</li><li>43</li><li>49</li><li>50</li><li>51</li><li>52</li><li>55</li><li>58</li><li>70</li></ol>\n"
      ],
      "text/latex": [
       "\\begin{enumerate*}\n",
       "\\item 1\n",
       "\\item 3\n",
       "\\item 4\n",
       "\\item 7\n",
       "\\item 8\n",
       "\\item 12\n",
       "\\item 15\n",
       "\\item 18\n",
       "\\item 20\n",
       "\\item 27\n",
       "\\item 35\n",
       "\\item 37\n",
       "\\item 38\n",
       "\\item 41\n",
       "\\item 42\n",
       "\\item 43\n",
       "\\item 49\n",
       "\\item 50\n",
       "\\item 51\n",
       "\\item 52\n",
       "\\item 55\n",
       "\\item 58\n",
       "\\item 70\n",
       "\\end{enumerate*}\n"
      ],
      "text/markdown": [
       "1. 1\n",
       "2. 3\n",
       "3. 4\n",
       "4. 7\n",
       "5. 8\n",
       "6. 12\n",
       "7. 15\n",
       "8. 18\n",
       "9. 20\n",
       "10. 27\n",
       "11. 35\n",
       "12. 37\n",
       "13. 38\n",
       "14. 41\n",
       "15. 42\n",
       "16. 43\n",
       "17. 49\n",
       "18. 50\n",
       "19. 51\n",
       "20. 52\n",
       "21. 55\n",
       "22. 58\n",
       "23. 70\n",
       "\n",
       "\n"
      ],
      "text/plain": [
       " [1]  1  3  4  7  8 12 15 18 20 27 35 37 38 41 42 43 49 50 51 52 55 58 70"
      ]
     },
     "metadata": {},
     "output_type": "display_data"
    }
   ],
   "source": [
    "decision_tree_classifier = rpart(stepwise_model$formula, df_train, parms = list(prior = c(0.72,0.28), split = 'information'))\n",
    "which(as.numeric(predict(decision_tree_classifier, df_test, type = 'class')) == 2)"
   ]
  },
  {
   "cell_type": "markdown",
   "id": "b2551c54",
   "metadata": {},
   "source": [
    "#### Ask the classifier to return employees who are likely to resign "
   ]
  },
  {
   "cell_type": "code",
   "execution_count": 19,
   "id": "d4aba3d5",
   "metadata": {},
   "outputs": [],
   "source": [
    "Member_of_Interest <- function(df_test){\n",
    " decision_tree_classifier = rpart(stepwise_model$formula, df_train, parms = list(prior = c(0.72,0.28), split = 'information'))   \n",
    " idx = c(which(as.numeric(predict(decision_tree_classifier, df_test, type = 'class')) == 2))\n",
    "return (idx)\n",
    "}"
   ]
  },
  {
   "cell_type": "markdown",
   "id": "0b401b11",
   "metadata": {},
   "source": [
    "`Difficulty Index:` I create a index for measuring how difficult it is to reduce the possibility of a member resigning by doing something with repesct to some aspects. The index is defined as:$D = P(S > s_{emp}) = \\frac{\\Sigma^{|df_{train}|}_{1}I(s_i > s_{emp})}{|df_{train}|}$, where $s_{emp}$ is the state of the employee, $|df_{train}|$ is the number of observations in training set.\n",
    "\n",
    "I use the index $D * （e^{\\beta}-1）$ as the final index, referred with which I give advice."
   ]
  },
  {
   "cell_type": "code",
   "execution_count": 20,
   "id": "ee578be1",
   "metadata": {},
   "outputs": [],
   "source": [
    "HR_Consultant <- function(df_test, idx, n=5){\n",
    "    variable_features = c('StockOptionLevel', \n",
    "    'WorkLifeBalance', 'JobInvolvement', 'EnvironmentSatisfaction', \n",
    "    'JobSatisfaction', 'RelationshipSatisfaction', 'TrainingTimesLastYear', \n",
    "    'YearsSinceLastPromotion')\n",
    "member = df_test[idx,]\n",
    "\n",
    "    \n",
    "difficulty <- function(member){\n",
    "    diff = c()\n",
    "    for (i in c(1:length(variable_features))){\n",
    "        diff = append(diff, mean(df_train[variable_features[i]] > df_test[[variable_features[i]]]))\n",
    "    }\n",
    "return(diff)\n",
    "}\n",
    "    \n",
    "    \n",
    "    advice = c('StockOptionLevel' = 'You should increase stock option level.',\n",
    "          'TrainingTimesLastYear' = 'You should invest more in training.',\n",
    "          'WorkLifeBalance' = 'You shold help the member better balance work and life.',\n",
    "          'EnvironmentSatisfaction' = 'You shoud consider more about his/her working environment.',\n",
    "          'RelationshipSatisfaction' = 'He/She may have some problem in relationship.',\n",
    "          'JobInvolvement' = 'You shoud consider more about his/her job involvement.',\n",
    "          'JobSatisfaction' = 'Maybe you should talk with the member about the overal job satisfaction.',\n",
    "          'YearsSinceLastPromotion' = 'You should think about promoting.')\n",
    "    \n",
    "    na = names((sort(abs(difficulty(member) * exp(stepwise_interactive_fm$coefficients[variable_features])-1), decreasing = T)))[1:n]\n",
    "    i = 1\n",
    "    for (name in na){\n",
    "    \n",
    "        print(paste('Suggestion',as.character(i),':', as.character(advice[name])))\n",
    "        i = i + 1\n",
    "    }\n",
    "}"
   ]
  },
  {
   "cell_type": "code",
   "execution_count": 21,
   "id": "b6951f4b",
   "metadata": {},
   "outputs": [
    {
     "data": {
      "text/html": [
       "<style>\n",
       ".list-inline {list-style: none; margin:0; padding: 0}\n",
       ".list-inline>li {display: inline-block}\n",
       ".list-inline>li:not(:last-child)::after {content: \"\\00b7\"; padding: 0 .5ex}\n",
       "</style>\n",
       "<ol class=list-inline><li>1</li><li>3</li><li>4</li><li>7</li><li>8</li><li>12</li><li>15</li><li>18</li><li>20</li><li>27</li><li>35</li><li>37</li><li>38</li><li>41</li><li>42</li><li>43</li><li>49</li><li>50</li><li>51</li><li>52</li><li>55</li><li>58</li><li>70</li></ol>\n"
      ],
      "text/latex": [
       "\\begin{enumerate*}\n",
       "\\item 1\n",
       "\\item 3\n",
       "\\item 4\n",
       "\\item 7\n",
       "\\item 8\n",
       "\\item 12\n",
       "\\item 15\n",
       "\\item 18\n",
       "\\item 20\n",
       "\\item 27\n",
       "\\item 35\n",
       "\\item 37\n",
       "\\item 38\n",
       "\\item 41\n",
       "\\item 42\n",
       "\\item 43\n",
       "\\item 49\n",
       "\\item 50\n",
       "\\item 51\n",
       "\\item 52\n",
       "\\item 55\n",
       "\\item 58\n",
       "\\item 70\n",
       "\\end{enumerate*}\n"
      ],
      "text/markdown": [
       "1. 1\n",
       "2. 3\n",
       "3. 4\n",
       "4. 7\n",
       "5. 8\n",
       "6. 12\n",
       "7. 15\n",
       "8. 18\n",
       "9. 20\n",
       "10. 27\n",
       "11. 35\n",
       "12. 37\n",
       "13. 38\n",
       "14. 41\n",
       "15. 42\n",
       "16. 43\n",
       "17. 49\n",
       "18. 50\n",
       "19. 51\n",
       "20. 52\n",
       "21. 55\n",
       "22. 58\n",
       "23. 70\n",
       "\n",
       "\n"
      ],
      "text/plain": [
       " [1]  1  3  4  7  8 12 15 18 20 27 35 37 38 41 42 43 49 50 51 52 55 58 70"
      ]
     },
     "metadata": {},
     "output_type": "display_data"
    }
   ],
   "source": [
    "Member_of_Interest(df_test)"
   ]
  },
  {
   "cell_type": "code",
   "execution_count": 22,
   "id": "409402d8",
   "metadata": {},
   "outputs": [
    {
     "name": "stdout",
     "output_type": "stream",
     "text": [
      "[1] \"Suggestion 1 : Maybe you should talk with the member about the overal job satisfaction.\"\n",
      "[1] \"Suggestion 2 : You should increase stock option level.\"\n",
      "[1] \"Suggestion 3 : You shoud consider more about his/her job involvement.\"\n",
      "[1] \"Suggestion 4 : You should invest more in training.\"\n",
      "[1] \"Suggestion 5 : He/She may have some problem in relationship.\"\n"
     ]
    }
   ],
   "source": [
    "HR_Consultant(df_test,1, n=5)"
   ]
  },
  {
   "cell_type": "code",
   "execution_count": null,
   "id": "cd8b9ab7",
   "metadata": {},
   "outputs": [],
   "source": []
  }
 ],
 "metadata": {
  "kernelspec": {
   "display_name": "R",
   "language": "R",
   "name": "ir"
  },
  "language_info": {
   "codemirror_mode": "r",
   "file_extension": ".r",
   "mimetype": "text/x-r-source",
   "name": "R",
   "pygments_lexer": "r",
   "version": "4.1.1"
  }
 },
 "nbformat": 4,
 "nbformat_minor": 5
}
